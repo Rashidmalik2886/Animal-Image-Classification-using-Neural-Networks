{
 "cells": [
  {
   "cell_type": "code",
   "execution_count": 1,
   "metadata": {},
   "outputs": [],
   "source": [
    "import hashlib,os\n",
    "from scipy.misc import imread, imresize, imshow\n",
    "import time \n",
    "import numpy as np\n",
    "from hashlib import md5\n",
    "from pathlib import Path"
   ]
  },
  {
   "cell_type": "markdown",
   "metadata": {},
   "source": [
    "# Removing Duplicate Images"
   ]
  },
  {
   "cell_type": "code",
   "execution_count": 2,
   "metadata": {},
   "outputs": [
    {
     "data": {
      "text/plain": [
       "'F:\\\\ML\\\\clg'"
      ]
     },
     "execution_count": 2,
     "metadata": {},
     "output_type": "execute_result"
    }
   ],
   "source": [
    "os.getcwd()"
   ]
  },
  {
   "cell_type": "code",
   "execution_count": 3,
   "metadata": {},
   "outputs": [],
   "source": [
    "os.chdir(r'F:\\\\ML\\\\clg\\\\Dataset')"
   ]
  },
  {
   "cell_type": "code",
   "execution_count": 4,
   "metadata": {},
   "outputs": [
    {
     "data": {
      "text/plain": [
       "'F:\\\\ML\\\\clg\\\\Dataset'"
      ]
     },
     "execution_count": 4,
     "metadata": {},
     "output_type": "execute_result"
    }
   ],
   "source": [
    "os.getcwd()"
   ]
  },
  {
   "cell_type": "code",
   "execution_count": 5,
   "metadata": {},
   "outputs": [
    {
     "name": "stdout",
     "output_type": "stream",
     "text": [
      "F:\\ML\\clg\\Dataset\n",
      "['train', 'valid']\n"
     ]
    }
   ],
   "source": [
    "path = os.getcwd()\n",
    "dirs = os.listdir(path)\n",
    "print(path)\n",
    "print(dirs)"
   ]
  },
  {
   "cell_type": "code",
   "execution_count": 6,
   "metadata": {},
   "outputs": [],
   "source": [
    "def delete_duplicate_images(files):\n",
    "    duplicates=[]\n",
    "    files_list = os.listdir()\n",
    "    hash_keys = dict()\n",
    "    for index, filename in enumerate (os.listdir('.')):\n",
    "        if os.path.isfile(filename):\n",
    "            with open(filename,'rb') as f:\n",
    "                filehash = hashlib.md5(f.read()).hexdigest()\n",
    "            if filehash not in hash_keys:\n",
    "                hash_keys[filehash] = index\n",
    "            else:\n",
    "                duplicates.append((index,hash_keys[filehash]))\n",
    "    print(duplicates)\n",
    "    for index in duplicates:\n",
    "        \n",
    "        os.remove(files_list[index[0]])\n",
    "       "
   ]
  },
  {
   "cell_type": "code",
   "execution_count": 7,
   "metadata": {},
   "outputs": [
    {
     "name": "stdout",
     "output_type": "stream",
     "text": [
      "[]\n",
      "[]\n",
      "[]\n",
      "[]\n",
      "[]\n",
      "[]\n",
      "[]\n",
      "[]\n",
      "[]\n",
      "[]\n",
      "[]\n",
      "[]\n",
      "[]\n",
      "[]\n",
      "[]\n",
      "[]\n",
      "[]\n",
      "[]\n",
      "[]\n",
      "[]\n",
      "[]\n",
      "[]\n"
     ]
    }
   ],
   "source": [
    "for d in dirs:\n",
    "        next_dir = os.path.join(path,d)\n",
    "        for file in os.listdir(next_dir):\n",
    "            filepath = os.path.join(next_dir,file)\n",
    "            filepath = Path(filepath)\n",
    "            os.chdir(filepath)\n",
    "            delete_duplicate_images(filepath)"
   ]
  },
  {
   "cell_type": "code",
   "execution_count": null,
   "metadata": {},
   "outputs": [],
   "source": []
  },
  {
   "cell_type": "code",
   "execution_count": null,
   "metadata": {},
   "outputs": [],
   "source": []
  }
 ],
 "metadata": {
  "kernelspec": {
   "display_name": "Python 3",
   "language": "python",
   "name": "python3"
  },
  "language_info": {
   "codemirror_mode": {
    "name": "ipython",
    "version": 3
   },
   "file_extension": ".py",
   "mimetype": "text/x-python",
   "name": "python",
   "nbconvert_exporter": "python",
   "pygments_lexer": "ipython3",
   "version": "3.6.5"
  }
 },
 "nbformat": 4,
 "nbformat_minor": 2
}
